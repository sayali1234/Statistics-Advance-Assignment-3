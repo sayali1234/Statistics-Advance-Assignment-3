{
 "cells": [
  {
   "cell_type": "markdown",
   "id": "1ec19db6-1458-4595-b127-4c1821e34c2a",
   "metadata": {},
   "source": [
    "Q1) What is the difference between a t-test and a z-test? Provide an example scenario where you would\n",
    "use each type of test."
   ]
  },
  {
   "cell_type": "code",
   "execution_count": null,
   "id": "0b87396d-41d5-4c26-b868-9ef53baa0263",
   "metadata": {},
   "outputs": [],
   "source": [
    "z-test is the statistical hypothesis used to determine whether the two samples' means calculated are different if the standard\n",
    "deviation is available and the sample is large. In contrast, the T-test determines how averages of different data sets differ\n",
    "in case the standard deviation or the variance is unknown.\n",
    "\n",
    "A z-test is used to test a Null Hypothesis if the population variance is known, or if the sample size is larger than 30, for an\n",
    "unknown population variance. A t-test is used when the sample size is less than 30 and the population variance is unknown.\n",
    "\n",
    "T-test refers to a univariate hypothesis test based on t-statistic, wherein the mean is known, and population variance is \n",
    "approximated from the sample. On the other hand, Z-test is also a univariate test that is based on standard normal distribution.\n",
    "\n",
    "Example for T- Test :\n",
    "For example, suppose you want to compare the average test scores of two groups of students who took different types of classes.\n",
    "A t-test would be used to determine whether there is a significant difference between the two groups.\n",
    "\n",
    "Example for Z-Test :\n",
    "suppose you want to compare the average heights of two groups of people from different countries. A z-test would be used to \n",
    "determine whether there is a significant difference between the two groups. Here Sample size >30 and population variance MUST\n",
    "BE KNOWN."
   ]
  },
  {
   "cell_type": "markdown",
   "id": "a3b739f6-c8f6-4fd7-b12c-41db79109ce8",
   "metadata": {},
   "source": [
    "Q2) Differentiate between one-tailed and two-tailed tests."
   ]
  },
  {
   "cell_type": "code",
   "execution_count": null,
   "id": "07a84416-200c-4f4a-869c-3364417f42ad",
   "metadata": {},
   "outputs": [],
   "source": [
    "A one-tailed test is used to ascertain if there is any relationship between variables in a single direction, i.e. left or right.\n",
    "As against this, the two-tailed test is used to identify whether or not there is any relationship between variables in either\n",
    "direction.\n",
    "\n",
    "One-tailed test, as the name suggest is the statistical hypothesis test, in which the alternative hypothesis has a single end.\n",
    "On the other hand, two-tailed test implies the hypothesis test; wherein the alternative hypothesis has dual ends.\n",
    "\n",
    "In the one-tailed test, the alternative hypothesis is represented directionally. Conversely, the two-tailed test is a \n",
    "non-directional hypothesis test.\n",
    "\n",
    "In a one-tailed test, the region of rejection is either on the left or right of the sampling distribution. On the contrary, the\n",
    "region of rejection is on both the sides of the sampling distribution.\n",
    "\n",
    "In a one-tailed test, the test parameter calculated is more or less than the critical value. Unlike, two-tailed test, the \n",
    "result obtained is within or outside critical value."
   ]
  },
  {
   "cell_type": "markdown",
   "id": "18df666e-24f1-4826-8c37-b987febaf152",
   "metadata": {},
   "source": [
    "Q3) Explain the concept of Type 1 and Type 2 errors in hypothesis testing. Provide an example scenario for\n",
    "each type of error."
   ]
  },
  {
   "cell_type": "code",
   "execution_count": null,
   "id": "49304b3e-c05d-4431-8ca6-22627c59dcc3",
   "metadata": {},
   "outputs": [],
   "source": [
    "In hypothesis testing, there are two types of errors that can occur: Type I error and Type II error.\n",
    "\n",
    "Type I error occurs when the null hypothesis is rejected even though it is actually true. This means that the researcher concludes that there is a significant \n",
    "effect or difference between two groups when in reality there is not. The probability of making a Type I error is denoted as alpha (α) and is set by the researcher\n",
    "prior to conducting the test. A smaller alpha level means a lower probability of making a Type I error.\n",
    "\n",
    "Type II error, on the other hand, occurs when the null hypothesis is not rejected even though it is actually false. This means that the researcher concludes that\n",
    "there is no significant effect or difference between two groups when in reality there is. The probability of making a Type II error is denoted as beta (β). The \n",
    "probability of making a Type II error depends on several factors such as the sample size, effect size, and the alpha level.\n",
    "\n",
    "Here are example scenarios for each type of error:\n",
    "    \n",
    "Type I error: Suppose a company produces a batch of 10,000 pens and claims that the average weight of each pen is 5 grams. A researcher randomly selects a sample\n",
    "of 50 pens and finds that the average weight is 5.2 grams with a standard deviation of 0.5 grams. The researcher conducts a hypothesis test with a significance \n",
    "level of 0.05 and concludes that the average weight of the pens is significantly greater than 5 grams. However, in reality, the average weight of the pens is \n",
    "actually 5 grams, and the researcher has made a Type I error by rejecting the null hypothesis.\n",
    "\n",
    "Type II error: Consider a clinical trial testing the effectiveness of a new drug for treating a certain disease. The null hypothesis is that the drug has no \n",
    "effect on the disease, while the alternative hypothesis is that the drug does have an effect. If the clinical trial fails to reject the null hypothesis, it could \n",
    "be due to the drug having no effect, or it could be due to a Type II error, where the drug actually does have an effect but it was not detected in the study. In \n",
    "this scenario, a Type II error would occur if the new drug is effective, but the clinical trial fails to detect its effectiveness due to a small sample size or \n",
    "other limitations of the study.\n"
   ]
  },
  {
   "cell_type": "markdown",
   "id": "581c881b-a076-4144-b937-413db5f893f1",
   "metadata": {},
   "source": [
    "Q4) Explain Bayes's theorem with an example."
   ]
  },
  {
   "cell_type": "code",
   "execution_count": null,
   "id": "6bb38e6b-f42b-4aae-8d72-ca8a3f8424dd",
   "metadata": {},
   "outputs": [],
   "source": [
    "Bayes's theorem is a mathematical formula that provides a way to update the probability of an event occurring based on new information. It is named after Thomas\n",
    "Bayes, an 18th-century British statistician.\n",
    "\n",
    "Bayes's theorem can be expressed as follows:\n",
    "\n",
    "P(A/B) = P(B/A)*P(A)/P(B)\n",
    "where:\n",
    "\n",
    "P(A/B) is the probability of event A occurring given that event B has occurred\n",
    "P(B/A) is the probability of event B occurring given that event A has occurred\n",
    "P(A) is the prior probability of event A occurring\n",
    "P(B) is the prior probability of event B occurring\n",
    "\n",
    "Here is an example of how Bayes's theorem can be applied:\n",
    "\n",
    "Suppose there is a medical test for a certain disease that affects 1% of the population. The test has a 95% accuracy rate, meaning that it correctly identifies\n",
    "95% of people who have the disease and correctly identifies 95% of people who do not have the disease. If a person tests positive for the disease, what is the \n",
    "probability that they actually have the disease?\n",
    "\n",
    "Using Bayes's theorem, we can calculate the probability as follows:\n",
    "\n",
    "1.Let A be the event that a person has the disease (prior probability = 0.01)\n",
    "\n",
    "2.Let B be the event that a person tests positive for the disease (prior probability = 0.01 x 0.95 + 0.99 x 0.05 = 0.058)\n",
    "\n",
    "3.P(A/B) = P(B/A) x P(A) / P(B)\n",
    "\n",
    "P(A/B) = 0.95 x 0.01 / 0.058\n",
    "\n",
    "P(A/B) = 0.163\n",
    "\n",
    "Therefore, the probability that a person who tests positive for the disease actually has the disease is approximately 16.3%. This calculation shows that even\n",
    "though the test has a high accuracy rate, there is still a significant chance of a false positive result, and additional testing or confirmation may be necessary\n",
    "to confirm a diagnosis."
   ]
  },
  {
   "cell_type": "markdown",
   "id": "13bd8fcd-8023-43cd-97a0-22b475d3be06",
   "metadata": {},
   "source": [
    "Q5) What is a confidence interval? How to calculate the confidence interval, explain with an example."
   ]
  },
  {
   "cell_type": "code",
   "execution_count": null,
   "id": "eb5ffeeb-9b33-473a-8b9e-49d34e9b08e1",
   "metadata": {},
   "outputs": [],
   "source": [
    "A confidence interval is a range of values that is likely to contain a population parameter, such as a mean or proportion, with a certain level of confidence.\n",
    "It is a way of quantifying the uncertainty of an estimate based on a sample of data.\n",
    "\n",
    "The confidence interval is typically expressed as an interval estimate, such as \"95% confidence interval for the mean is between 3.2 and 5.8\". This means that if\n",
    "we were to repeat the sampling process many times, 95% of the time the true population mean would be within this range.\n",
    "\n",
    "To calculate a confidence interval, we need to know the sample size, the sample mean, and the standard error of the mean (SEM), which is a measure of the\n",
    "variation in the sample means. The confidence interval is based on the standard normal distribution or t-distribution, depending on the sample size and whether\n",
    "the population standard deviation is known.\n",
    "\n",
    "Here is an example of how to calculate a confidence interval:\n",
    "    \n",
    "Suppose we want to estimate the mean weight of a certain population of adults. We take a random sample of 100 people and measure their weights, and find that the \n",
    "sample mean is 72.5 kilograms and the sample standard deviation is 10.3 kilograms. We want to calculate a 99% confidence interval for the population mean weight.\n",
    "Since the sample size is greater than 30 and the population standard deviation is unknown, we use the t-distribution. The degrees of freedom is n-1, which is 99 \n",
    "in this case.\n",
    "\n",
    "First, we calculate the standard error of the mean:\n",
    "    \n",
    "1.SEM = s / sqrt(n) = 10.3 / sqrt(100) = 1.03\n",
    "\n",
    "2.Next, we find the t-value for a 99% confidence level and 99 degrees of freedom using a t-table or calculator. The value is approximately 2.63.\n",
    "\n",
    "3.The lower and upper bounds of the confidence interval are calculated as:\n",
    "\n",
    "Lower bound = sample mean - t-value x SEM = 72.5 - 2.63 x 1.03 = 69.8\n",
    "Upper bound = sample mean + t-value x SEM = 72.5 + 2.63 x 1.03 = 75.2\n",
    "\n",
    "Therefore, the 99% confidence interval for the population mean weight is between 69.8 and 75.2 kilograms. This means that we are 99% confident that the true \n",
    "population mean weight lies within this range."
   ]
  },
  {
   "cell_type": "code",
   "execution_count": 1,
   "id": "d8be97a5-d966-46c1-aaed-4c98ec7cd71f",
   "metadata": {},
   "outputs": [
    {
     "name": "stdout",
     "output_type": "stream",
     "text": [
      "t_value for 100 samples with significance level of 0.01 is : 2.63\n",
      "The 99% confidence interval for population mean is (69.8, 75.2)\n"
     ]
    }
   ],
   "source": [
    "# Verifying above with python code\n",
    "from math import sqrt\n",
    "import scipy.stats as stats\n",
    "\n",
    "# Given Below data\n",
    "sample_mean = 72.5\n",
    "sample_std = 10.3\n",
    "n = 100\n",
    "\n",
    "# Calculating SEM\n",
    "SEM  = sample_std/sqrt(n)\n",
    "\n",
    "# Defining the significance level \n",
    "alpha = 0.01\n",
    "\n",
    "# Calculating the t value\n",
    "t_value = stats.t.ppf(1-alpha/2, df=n-1)\n",
    "print(f't_value for {n} samples with significance level of {alpha} is : {t_value:.2f}')\n",
    "\n",
    "# Calculate the confidence interval\n",
    "lower_bound = sample_mean - t_value * SEM\n",
    "upper_bound = sample_mean + t_value * SEM\n",
    "\n",
    "# Printing the results\n",
    "print(f\"The 99% confidence interval for population mean is ({lower_bound:.1f}, {upper_bound:.1f})\")"
   ]
  },
  {
   "cell_type": "markdown",
   "id": "a10b70db-aaa8-4dd2-88b6-8cd080cc2fac",
   "metadata": {},
   "source": [
    "Q6) Use Bayes' Theorem to calculate the probability of an event occurring given prior knowledge of the\n",
    "event's probability and new evidence. Provide a sample problem and solution."
   ]
  },
  {
   "cell_type": "code",
   "execution_count": null,
   "id": "5a4ed67f-b7e9-4cee-99a7-6a3629556af6",
   "metadata": {},
   "outputs": [],
   "source": [
    "Suppose a company manufactures a certain type of product that has a defect rate of 2%. The company uses a quality control process that is 95% effective in \n",
    "catching defective products, and 99% effective in passing non-defective products. If a product passes the quality control process, what is the probability that it\n",
    "is actually defect-free?\n",
    "\n",
    "To solve this problem using Bayes' theorem, we first define the following events:\n",
    "\n",
    "1.D: the product is defective\n",
    "2.~D: the product is not defective\n",
    "3.P: the product passes the quality control process\n",
    "\n",
    "Solution\n",
    "\n",
    "P(~D|P) = P(P|~D) * P(~D) / P(P)\n",
    "P(P) = P(P|D) * P(D) + P(P|~D) * P(~D)\n",
    "\n",
    "P(D) = 0.02\n",
    "P(~D) = 0.98\n",
    "P(P|D) = 0.05\n",
    "P(P|~D) = 0.99\n",
    "\n",
    "P(P) = P(P|D) * P(D) + P(P|~D) * P(~D)\n",
    "     = 0.05 * 0.02 + 0.99 * 0.98\n",
    "     = 0.9756\n",
    "\n",
    "P(~D|P) = P(P|~D) * P(~D) / P(P)\n",
    "        = 0.99 * 0.98 / 0.9756\n",
    "        = 0.9990\n",
    "        \n",
    "Therefore, the probability that a product is not defective given that it passes the quality control process is approximately 0.9990, or 99.90%. This result \n",
    "indicates that if a product passes the quality control process, it is highly likely to be defect-free. However, it is important to note that no quality control\n",
    "process is perfect, and some defective products may still slip through."
   ]
  },
  {
   "cell_type": "code",
   "execution_count": 2,
   "id": "71af29a7-8186-49e3-b293-1d56df406c84",
   "metadata": {},
   "outputs": [
    {
     "name": "stdout",
     "output_type": "stream",
     "text": [
      "The probability of the product being defect-free given it passed the quality control process is 0.9990\n"
     ]
    }
   ],
   "source": [
    "# Solution for above with python\n",
    "\n",
    "# Define the prior probabilities and conditional probabilities\n",
    "p_defect = 0.02\n",
    "p_pass_given_defect = 0.05\n",
    "p_not_defect = 0.98\n",
    "p_pass_given_not_defect = 0.99\n",
    "\n",
    "# Calculate the total probability of passing the quality control process\n",
    "p_pass = p_pass_given_defect * p_defect + p_pass_given_not_defect * p_not_defect\n",
    "\n",
    "# Calculate the probability of the product being defect-free given it passed the quality control process\n",
    "p_not_defect_given_pass = (p_pass_given_not_defect * p_not_defect) / p_pass\n",
    "\n",
    "# Print the result\n",
    "print(f\"The probability of the product being defect-free given it passed the quality control process is {p_not_defect_given_pass:.4f}\")"
   ]
  },
  {
   "cell_type": "markdown",
   "id": "0c361b9b-5aa9-446b-a24b-c18ce7f811f9",
   "metadata": {},
   "source": [
    "Q7) Calculate the 95% confidence interval for a sample of data with a mean of 50 and a standard deviation\n",
    "of 5. Interpret the results."
   ]
  },
  {
   "cell_type": "code",
   "execution_count": 3,
   "id": "0602d241-b275-4856-954c-9738d9c8b53a",
   "metadata": {},
   "outputs": [
    {
     "name": "stdout",
     "output_type": "stream",
     "text": [
      "t statistic for significance level 0.05 , sample size of 40 is : 2.02\n",
      "The 95% confidence interval is (48.40, 51.60)\n"
     ]
    }
   ],
   "source": [
    "import math\n",
    "import scipy.stats as stats\n",
    "\n",
    "# Define the sample mean, standard deviation, and sample size\n",
    "sample_mean = 50\n",
    "sample_std_dev = 5\n",
    "sample_size = 40\n",
    "\n",
    "# Signficance Level\n",
    "alpha = 0.05\n",
    "\n",
    "# Calculate the critical value for a 95% confidence interval\n",
    "t_crit = stats.t.ppf(1-alpha/2, df=sample_size-1)\n",
    "print(f't statistic for significance level {alpha} , sample size of {sample_size} is : {t_crit:.2f}')\n",
    "\n",
    "# Calculate the standard error\n",
    "std_error = sample_std_dev / math.sqrt(sample_size)\n",
    "\n",
    "# Calculate the lower and upper bounds of the confidence interval\n",
    "lower_bound = sample_mean - t_crit * std_error\n",
    "upper_bound = sample_mean + t_crit * std_error\n",
    "\n",
    "# Print the results\n",
    "print(f\"The 95% confidence interval is ({lower_bound:.2f}, {upper_bound:.2f})\")"
   ]
  },
  {
   "cell_type": "code",
   "execution_count": null,
   "id": "cb5a2a3c-f2b6-4237-8bc7-127f9fa9e910",
   "metadata": {},
   "outputs": [],
   "source": [
    "Above results mean that I can say with 95% condfidence that the POPULATION MEAN Lies in between 48.13 and 51.87"
   ]
  },
  {
   "cell_type": "markdown",
   "id": "41c9564f-99ad-43c8-9eec-c0d0e751547f",
   "metadata": {},
   "source": [
    "Q8) What is the margin of error in a confidence interval? How does sample size affect the margin of error?\n",
    "Provide an example of a scenario where a larger sample size would result in a smaller margin of error."
   ]
  },
  {
   "cell_type": "code",
   "execution_count": null,
   "id": "4074c894-523a-4c7f-a1e7-2b9d5782b5bb",
   "metadata": {},
   "outputs": [],
   "source": [
    "The margin of error in a confidence interval is the range of values around the sample statistic (such as the sample mean) within which we expect the true \n",
    "population parameter (such as the population mean) to lie with a certain level of confidence. The margin of error is affected by the sample size, level of\n",
    "confidence, and standard deviation of the population.\n",
    "\n",
    "As the sample size increases, the margin of error decreases because larger samples provide more information about the population, and hence the sample statistics\n",
    "are more likely to be representative of the population. The decrease in margin of error with an increase in sample size follows the square root law, which states\n",
    "that the margin of error decreases by the square root of the sample size.\n",
    "\n",
    "For example, suppose we want to estimate the average height of all students in a university using a random sample of students. We take a sample of 50 students and\n",
    "calculate their average height to be 170 cm with a standard deviation of 5 cm. We want to calculate a 95% confidence interval for the true population mean height.\n",
    "\n",
    "1.Using the formula for the margin of error for a confidence interval, we get:\n",
    "    \n",
    "Margin of error = z * (standard deviation / sqrt(sample size))\n",
    "\n",
    "2.For a 95% confidence interval, the critical z-value is 1.96. So, plugging in the values, we get:\n",
    "    \n",
    "Margin of error = 1.96 * (5 / sqrt(50)) = 1.38 cm\n",
    "\n",
    "3.This means that we are 95% confident that the true population mean height is within 1.38 cm of our sample mean of 170 cm. If we had taken a larger sample size \n",
    "of 200 students, the margin of error would have been:\n",
    "    \n",
    "Margin of error = 1.96 * (5 / sqrt(200)) = 0.98 cm\n",
    "\n",
    "So, a larger sample size would result in a smaller margin of error, making our estimate of the true population mean height more precise."
   ]
  },
  {
   "cell_type": "markdown",
   "id": "9e862bba-b721-4582-a02c-9b6336e42ec4",
   "metadata": {},
   "source": [
    "Q9) Calculate the z-score for a data point with a value of 75, a population mean of 70, and a population\n",
    "standard deviation of 5. Interpret the results."
   ]
  },
  {
   "cell_type": "code",
   "execution_count": 4,
   "id": "e6c69e9b-08de-40f0-8f4d-b28804db6a76",
   "metadata": {},
   "outputs": [
    {
     "name": "stdout",
     "output_type": "stream",
     "text": [
      "The z-score is: 1.0\n"
     ]
    }
   ],
   "source": [
    "# Define the values\n",
    "x = 75  # Data point value\n",
    "mu = 70  # Population mean\n",
    "sigma = 5  # Population standard deviation\n",
    "\n",
    "# Calculate the z-score\n",
    "z = (x - mu) / sigma\n",
    "\n",
    "print(f\"The z-score is: {z}\")"
   ]
  },
  {
   "cell_type": "code",
   "execution_count": null,
   "id": "ba8e26de-fd02-4d58-8b96-9a765a2e6f23",
   "metadata": {},
   "outputs": [],
   "source": [
    "This means that the data point is 1 standard deviation above the population mean. A positive z-score indicates that the data point is above the mean, while a \n",
    "negative z-score indicates that it is below the mean. The magnitude of the z-score tells us how far away the data point is from the mean in terms of standard \n",
    "deviations."
   ]
  },
  {
   "cell_type": "code",
   "execution_count": 5,
   "id": "d6e4a0e4-6196-4c41-96d3-1f28c04593ae",
   "metadata": {},
   "outputs": [
    {
     "name": "stdout",
     "output_type": "stream",
     "text": [
      "The percentage of values below a z-score of 1 is: 84.13%\n"
     ]
    }
   ],
   "source": [
    "from scipy.stats import norm\n",
    "\n",
    "# Calculate the percentage of values below a z-score of 1\n",
    "percent_below = norm.cdf(z) * 100\n",
    "\n",
    "print(f\"The percentage of values below a z-score of 1 is: {percent_below:.2f}%\")"
   ]
  },
  {
   "cell_type": "code",
   "execution_count": null,
   "id": "f04853e3-1b0e-4ca9-b13a-b832a3297e91",
   "metadata": {},
   "outputs": [],
   "source": [
    "A z-score of 1 corresponds to approximately 84.13% of values being below this value in a standard normal distribution."
   ]
  },
  {
   "cell_type": "markdown",
   "id": "40c53df3-0e16-409a-88af-35164ac1776d",
   "metadata": {},
   "source": [
    "Q10) In a study of the effectiveness of a new weight loss drug, a sample of 50 participants lost an average\n",
    "of 6 pounds with a standard deviation of 2.5 pounds. Conduct a hypothesis test to determine if the drug is\n",
    "significantly effective at a 95% confidence level using a t-test."
   ]
  },
  {
   "cell_type": "code",
   "execution_count": 6,
   "id": "3f76873d-81e4-4632-b318-0b02c7f8c38d",
   "metadata": {},
   "outputs": [
    {
     "name": "stdout",
     "output_type": "stream",
     "text": [
      "t-statistic: 16.9706\n",
      "p-value: 0.0\n",
      "Reject the null hypothesis. the drug is significantly effective.\n"
     ]
    }
   ],
   "source": [
    "import numpy as np\n",
    "from scipy.stats import t\n",
    "\n",
    "# Null hypothesis: the drug is not significantly effective\n",
    "# Alternative hypothesis: the drug is significantly effective\n",
    "alpha = 0.05  # significance level\n",
    "null_hypothesis = \"the drug is not significantly effective\"\n",
    "alternative_hypothesis = \"the drug is significantly effective\"\n",
    "\n",
    "mu = 0\n",
    "sample_mean = 6\n",
    "sample_std = 2.5\n",
    "n = 50\n",
    "df = n - 1  # degrees of freedom\n",
    "\n",
    "# Calculate the t-score and p-value\n",
    "t_score = (sample_mean - mu) / (sample_std / np.sqrt(n))\n",
    "p_value = 2 * (1 - t.cdf(abs(t_score), df))\n",
    "\n",
    "# Compare p-value with alpha and make a conclusion\n",
    "print(f\"t-statistic: {t_score:.4f}\")\n",
    "print(f\"p-value: {p_value}\")\n",
    "if p_value < alpha:\n",
    "    print(f\"Reject the null hypothesis. {alternative_hypothesis}.\")\n",
    "else:\n",
    "    print(f\"Fail to reject the null hypothesis. {null_hypothesis}.\")"
   ]
  },
  {
   "cell_type": "markdown",
   "id": "5e1d8e0a-e485-4ea6-9645-6d11a71e5eff",
   "metadata": {},
   "source": [
    "Q11) In a survey of 500 people, 65% reported being satisfied with their current job. Calculate the 95%\n",
    "confidence interval for the true proportion of people who are satisfied with their job."
   ]
  },
  {
   "cell_type": "code",
   "execution_count": 7,
   "id": "8a16b52a-a27c-4d15-8fae-8f5884d66217",
   "metadata": {},
   "outputs": [
    {
     "name": "stdout",
     "output_type": "stream",
     "text": [
      "The 95% confidence interval for the proportion of people who are satisfied with their job is (60.82%, 69.18%)\n"
     ]
    }
   ],
   "source": [
    "import math\n",
    "\n",
    "p = 0.65  # sample proportion\n",
    "n = 500  # sample size\n",
    "z_alpha = 1.96  # z-score for 95% confidence level\n",
    "\n",
    "# Calculate the standard error\n",
    "se = math.sqrt((p * (1 - p)) / n)\n",
    "\n",
    "# Calculate the margin of error\n",
    "me = z_alpha * se\n",
    "\n",
    "# Calculate the confidence interval\n",
    "lower_bound = p - me\n",
    "upper_bound = p + me\n",
    "\n",
    "# Print the results\n",
    "print(f\"The 95% confidence interval for the proportion of people who are satisfied with their job is ({lower_bound*100:.2f}%, {upper_bound*100:.2f}%)\")"
   ]
  },
  {
   "cell_type": "markdown",
   "id": "77ff8f25-34cd-4f23-87fd-e94cf2a0b80d",
   "metadata": {},
   "source": [
    "Q12) A researcher is testing the effectiveness of two different teaching methods on student performance.\n",
    "Sample A has a mean score of 85 with a standard deviation of 6, while sample B has a mean score of 82\n",
    "with a standard deviation of 5. Conduct a hypothesis test to determine if the two teaching methods have a\n",
    "significant difference in student performance using a t-test with a significance level of 0.01."
   ]
  },
  {
   "cell_type": "code",
   "execution_count": 8,
   "id": "a1e8266e-a892-4b59-ba95-a5ce721743a5",
   "metadata": {},
   "outputs": [
    {
     "name": "stdout",
     "output_type": "stream",
     "text": [
      "t-statistic: 2.104\n",
      "Degrees of freedom: 58\n",
      "Critical t-value: 2.663\n",
      "p-value: 0.040\n",
      "Fail to reject null hypothesis.\n",
      "mu1 = mu2 (the means are equal)\n"
     ]
    }
   ],
   "source": [
    "import numpy as np\n",
    "from scipy.stats import t\n",
    "\n",
    "# Sample A\n",
    "x1 = 85\n",
    "s1 = 6\n",
    "n1 = 30\n",
    "\n",
    "# Sample B\n",
    "x2 = 82\n",
    "s2 = 5\n",
    "n2 = 30\n",
    "\n",
    "# Set up null and alternative hypotheses\n",
    "# H0: mu1 = mu2 (the means are equal)\n",
    "# Ha: mu1 != mu2 (the means are not equal)\n",
    "alpha = 0.01\n",
    "null_hypothesis = \"mu1 = mu2 (the means are equal)\"\n",
    "alternative_hypothesis = \"mu1 != mu2 (the means are not equal)\"\n",
    "\n",
    "# Calculate pooled standard deviation\n",
    "sp = np.sqrt(((n1 - 1) * s1 ** 2 + (n2 - 1) * s2 ** 2) / (n1 + n2 - 2))\n",
    "\n",
    "# Calculate t-statistic\n",
    "t_stat = (x1 - x2) / (sp * np.sqrt(1 / n1 + 1 / n2))\n",
    "\n",
    "# Calculate degrees of freedom\n",
    "df = n1 + n2 - 2\n",
    "\n",
    "# Calculate critical t-value\n",
    "t_crit = t.ppf(1-alpha / 2, df)\n",
    "\n",
    "# Calculate p-value\n",
    "p_value = 2 * (1 - t.cdf(abs(t_stat), df))\n",
    "\n",
    "# Print results\n",
    "print(f\"t-statistic: {t_stat:.3f}\")\n",
    "print(f\"Degrees of freedom: {df}\")\n",
    "print(f\"Critical t-value: {t_crit:.3f}\")\n",
    "print(f\"p-value: {p_value:.3f}\")\n",
    "\n",
    "if abs(t_stat) > t_crit:\n",
    "    print(\"Reject null hypothesis.\")\n",
    "    print(alternative_hypothesis)\n",
    "else:\n",
    "    print(\"Fail to reject null hypothesis.\")\n",
    "    print(null_hypothesis)"
   ]
  },
  {
   "cell_type": "markdown",
   "id": "cbe4121c-6f96-4232-810c-5ccb0eaae743",
   "metadata": {},
   "source": [
    "Q13) A population has a mean of 60 and a standard deviation of 8. A sample of 50 observations has a mean\n",
    "of 65. Calculate the 90% confidence interval for the true population mean."
   ]
  },
  {
   "cell_type": "code",
   "execution_count": 9,
   "id": "e25705b7-8a18-477e-a910-f62203c52861",
   "metadata": {},
   "outputs": [
    {
     "name": "stdout",
     "output_type": "stream",
     "text": [
      "t statistic for 50 samples with 90% confidence is : 1.6766\n",
      "The 90% confidence interval for the true population mean is (63.103, 66.897)\n"
     ]
    }
   ],
   "source": [
    "import math\n",
    "from scipy.stats import t\n",
    "\n",
    "pop_mean = 60\n",
    "pop_std = 8\n",
    "n = 50\n",
    "sample_mean = 65\n",
    "confidence_level = 0.90\n",
    "\n",
    "# Calculate the t-score\n",
    "t_score = (sample_mean - pop_mean) / (pop_std / math.sqrt(n))\n",
    "\n",
    "# Find the critical t-value\n",
    "df = n - 1\n",
    "t_crit = t.ppf((1+confidence_level)/2, df)\n",
    "print(f't statistic for {n} samples with {confidence_level*100:.0f}% confidence is : {t_crit:.4f}')\n",
    "\n",
    "# Calculate the margin of error\n",
    "margin_of_error = t_crit * (pop_std / math.sqrt(n))\n",
    "\n",
    "# Calculate the confidence interval\n",
    "lower_bound = sample_mean - margin_of_error\n",
    "upper_bound = sample_mean + margin_of_error\n",
    "\n",
    "# Print the results\n",
    "print(f\"The {confidence_level*100:.0f}% confidence interval for the true population mean is ({lower_bound:.3f}, {upper_bound:.3f})\")"
   ]
  },
  {
   "cell_type": "markdown",
   "id": "87070761-b565-4ea7-bd8a-31d402f96196",
   "metadata": {},
   "source": [
    "Q14) In a study of the effects of caffeine on reaction time, a sample of 30 participants had an average\n",
    "reaction time of 0.25 seconds with a standard deviation of 0.05 seconds. Conduct a hypothesis test to\n",
    "determine if the caffeine has a significant effect on reaction time at a 90% confidence level using a t-test."
   ]
  },
  {
   "cell_type": "code",
   "execution_count": null,
   "id": "f1840bf6-f6ec-472a-b19a-5e7476de96f5",
   "metadata": {},
   "outputs": [],
   "source": [
    "In this example popluation mean is not provided\n",
    "According to researchers typical human reaction time is 200ms to 300ms\n",
    "Here i have assumed the population mean as 300ms or 0.3 seconds"
   ]
  },
  {
   "cell_type": "code",
   "execution_count": null,
   "id": "9d345157-9e06-4352-b44d-467b911d17d3",
   "metadata": {},
   "outputs": [],
   "source": [
    "import math\n",
    "import scipy.stats as stats\n",
    "\n",
    "# Null Hypothesis: Caffeine has no significant effect on reaction time\n",
    "# Alternative Hypothesis: Caffeine has a significant effect on reaction time\n",
    "null_hypothesis = \"Caffeine has no significant effect on reaction time\"\n",
    "alternative_hypothesis = \"Caffeine has a significant effect on reaction time\"\n",
    "\n",
    "sample_mean = 0.25  # sample mean\n",
    "sample_std_dev = 0.05  # sample standard deviation\n",
    "n = 30  # sample size\n",
    "pop_mean = 0.3  # population mean under null hypothesis\n",
    "alpha = 0.1  # significance level\n",
    "\n",
    "# Calculate the t-statistic\n",
    "t_stat = (sample_mean - pop_mean) / (sample_std_dev / math.sqrt(n))\n",
    "\n",
    "# Calculate the critical t-value\n",
    "t_crit = stats.t.ppf(1-alpha/2, n-1)\n",
    "\n",
    "# Calculate the confidence interval\n",
    "margin_of_error = t_crit * (sample_std_dev / math.sqrt(n))\n",
    "lower_ci = sample_mean - margin_of_error\n",
    "upper_ci = sample_mean + margin_of_error\n",
    "\n",
    "# Print the results\n",
    "print(f\"t-statistic: {t_stat:.3f}\")\n",
    "print(f\"t-critical value: {t_crit:.3f}\")\n",
    "print(f\"90% Confidence Interval: ({lower_ci:.3f}, {upper_ci:.3f})\")\n",
    "\n",
    "# Determine if the null hypothesis should be rejected or not\n",
    "if abs(t_stat) > t_crit:\n",
    "    print(\"Reject the null hypothesis\")\n",
    "    print(alternative_hypothesis)\n",
    "else:\n",
    "    print(\"Fail to reject the null hypothesis\")\n",
    "    print(null_hypothesis)"
   ]
  }
 ],
 "metadata": {
  "kernelspec": {
   "display_name": "Python 3 (ipykernel)",
   "language": "python",
   "name": "python3"
  },
  "language_info": {
   "codemirror_mode": {
    "name": "ipython",
    "version": 3
   },
   "file_extension": ".py",
   "mimetype": "text/x-python",
   "name": "python",
   "nbconvert_exporter": "python",
   "pygments_lexer": "ipython3",
   "version": "3.10.8"
  }
 },
 "nbformat": 4,
 "nbformat_minor": 5
}
